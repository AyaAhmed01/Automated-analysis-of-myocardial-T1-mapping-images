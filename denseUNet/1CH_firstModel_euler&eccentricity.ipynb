{
  "cells": [
    {
      "cell_type": "code",
      "execution_count": 1,
      "metadata": {
        "id": "ir-JK7DjdZG4"
      },
      "outputs": [],
      "source": [
        "import tensorflow as tf\n",
        "import numpy as np\n",
        "import os\n",
        "import matplotlib.pyplot as plt\n",
        "from google.colab.patches import cv2_imshow\n",
        "import cv2\n",
        "\n",
        "%matplotlib inline"
      ]
    },
    {
      "cell_type": "code",
      "execution_count": 2,
      "metadata": {
        "colab": {
          "base_uri": "https://localhost:8080/"
        },
        "id": "vHBhGoACdods",
        "outputId": "54ee77be-88b6-4905-c701-93e1be095a45"
      },
      "outputs": [
        {
          "output_type": "stream",
          "name": "stdout",
          "text": [
            "Mounted at /content/gdrive\n"
          ]
        }
      ],
      "source": [
        "# Run this cell to connect to your Drive folder\n",
        "from google.colab import drive\n",
        "drive.mount('/content/gdrive')"
      ]
    },
    {
      "cell_type": "code",
      "source": [
        "data = np.load('/content/gdrive/MyDrive/GP_dataset/cropped_data_small.npy')"
      ],
      "metadata": {
        "id": "y0w1P9cC9O6C"
      },
      "execution_count": 3,
      "outputs": []
    },
    {
      "cell_type": "code",
      "source": [
        "n = 125     # patients\n",
        "tr, ts, val = int(n * 0.6), int(n * 0.2), int(n * 0.2)\n",
        "# x_train = data[:tr*55]\n",
        "# x_valid = data[tr*55: 55*(tr+val)]\n",
        "x_test = data[55*(tr+val): n*55]"
      ],
      "metadata": {
        "id": "YveyChgQ9RqV"
      },
      "execution_count": 4,
      "outputs": []
    },
    {
      "cell_type": "code",
      "source": [
        "# y_train = np.load('/content/gdrive/MyDrive/GP_dataset/y_train.npy')\n",
        "# y_valid = np.load('/content/gdrive/MyDrive/GP_dataset/y_valid.npy')\n",
        "y_test = np.load('/content/gdrive/MyDrive/GP_dataset/y_test.npy')"
      ],
      "metadata": {
        "id": "qaRb_W2Z9XAG"
      },
      "execution_count": 5,
      "outputs": []
    },
    {
      "cell_type": "code",
      "source": [
        "from tensorflow.keras.layers import Input, concatenate, Conv2D, MaxPooling2D, Conv2DTranspose, BatchNormalization, Dropout\n",
        "from keras.models import Model\n",
        "from tensorflow.keras.optimizers import Adam\n",
        "from tensorflow.keras.callbacks import ModelCheckpoint, CSVLogger\n",
        "from tensorflow.keras import backend as K\n",
        "# import keras_tuner as Kt\n",
        "\n",
        "K.set_image_data_format('channels_last')\n",
        "\n",
        "project_name = '2D-Dense-Unet'\n",
        "img_rows = 160\n",
        "img_cols = 192\n",
        "img_depth = 1\n",
        "# 224, 192, 160\n",
        "\n",
        "def dice_metric(y_true, y_pred):\n",
        "  intersection = K.sum(K.sum(K.abs(y_true * y_pred), axis= -1))\n",
        "  union = K.sum(K.sum(K.abs(y_true) + K.abs(y_pred), axis= -1))\n",
        "  return 2*intersection / union\n",
        "\n",
        "def jaccard_coeff(y_true, y_pred):\n",
        "  y_true_f = K.flatten(y_true)\n",
        "  y_pred_f = K.flatten(y_pred)\n",
        "  intersection = K.sum(y_true_f * y_pred_f)\n",
        "  return (intersection + 1.0) / (K.sum(y_true_f) + K.sum(y_pred_f) - intersection + 1.0)\n",
        "\n",
        "def build():\n",
        "      dropout = 0.5\n",
        "\n",
        "      inputs = Input((img_rows, img_cols, 1))\n",
        "      conv11 = Conv2D(32, (3, 3), activation='relu', padding='same')(inputs)\n",
        "      conc11 = concatenate([inputs, conv11], axis=3)\n",
        "      conc11 = BatchNormalization()(conc11)\n",
        "      conv12 = Conv2D(32, (3, 3), activation='relu', padding='same')(conc11)\n",
        "      conc12 = concatenate([inputs, conv12], axis=3)\n",
        "      conc12 = BatchNormalization()(conc12)\n",
        "      pool1 = MaxPooling2D(pool_size=(2, 2))(conc12)\n",
        "      pool1 = BatchNormalization()(pool1)\n",
        "      # add dropout\n",
        "      pool1 = Dropout(rate= dropout)(pool1)\n",
        "\n",
        "      conv21 = Conv2D(64, (3, 3), activation='relu', padding='same')(pool1)\n",
        "      conc21 = concatenate([pool1, conv21], axis=3)\n",
        "      conc21 = BatchNormalization()(conc21)\n",
        "      conv22 = Conv2D(64, (3, 3), activation='relu', padding='same')(conc21)\n",
        "      conc22 = concatenate([pool1, conv22], axis=3)\n",
        "      conc22 = BatchNormalization()(conc22)\n",
        "      pool2 = MaxPooling2D(pool_size=(2, 2))(conc22)\n",
        "      pool2 = BatchNormalization()(pool2)\n",
        "      pool2 = Dropout(rate= dropout)(pool2)\n",
        "\n",
        "      conv31 = Conv2D(128, (3, 3), activation='relu', padding='same')(pool2)\n",
        "      conc31 = concatenate([pool2, conv31], axis=3)\n",
        "      conc31 = BatchNormalization()(conc31)\n",
        "      conv32 = Conv2D(128, (3, 3), activation='relu', padding='same')(conc31)\n",
        "      conc32 = concatenate([pool2, conv32], axis=3)\n",
        "      pool3 = MaxPooling2D(pool_size=(2, 2))(conc32)\n",
        "      pool3 = BatchNormalization()(pool3)\n",
        "      pool3 = Dropout(rate= dropout)(pool3)\n",
        "\n",
        "      conv41 = Conv2D(256, (3, 3), activation='relu', padding='same')(pool3)\n",
        "      conc41 = concatenate([pool3, conv41], axis=3)\n",
        "      conc41 = BatchNormalization()(conc41)\n",
        "      conv42 = Conv2D(256, (3, 3), activation='relu', padding='same')(conc41)\n",
        "      conc42 = concatenate([pool3, conv42], axis=3)\n",
        "      pool4 = MaxPooling2D(pool_size=(2, 2))(conc42)\n",
        "      pool4 = BatchNormalization()(pool4)\n",
        "      pool4 = Dropout(rate= dropout)(pool4)\n",
        "\n",
        "      conv51 = Conv2D(512, (3, 3), activation='relu', padding='same')(pool4)\n",
        "      conc51 = concatenate([pool4, conv51], axis=3)\n",
        "      conc51 = BatchNormalization()(conc51)\n",
        "      conv52 = Conv2D(512, (3, 3), activation='relu', padding='same')(conc51)\n",
        "      conc52 = concatenate([pool4, conv52], axis=3)\n",
        "      conc52 = BatchNormalization()(conc52)\n",
        "      conc52 = Dropout(rate= dropout)(conc52)\n",
        "\n",
        "      up6 = concatenate([Conv2DTranspose(256, (2, 2), strides=(2, 2), padding='same')(conc52), conc42], axis=3)\n",
        "      conv61 = Conv2D(256, (3, 3), activation='relu', padding='same')(up6)\n",
        "      conc61 = concatenate([up6, conv61], axis=3)\n",
        "      conc61 = BatchNormalization()(conc61)\n",
        "      conv62 = Conv2D(256, (3, 3), activation='relu', padding='same')(conc61)\n",
        "      conc62 = concatenate([up6, conv62], axis=3)\n",
        "      conc62 = BatchNormalization()(conc62)\n",
        "      # add dropout\n",
        "      conc62 = Dropout(rate= dropout)(conc62)\n",
        "\n",
        "      up7 = concatenate([Conv2DTranspose(128, (2, 2), strides=(2, 2), padding='same')(conc62), conv32], axis=3)\n",
        "      conv71 = Conv2D(128, (3, 3), activation='relu', padding='same')(up7)\n",
        "      conc71 = concatenate([up7, conv71], axis=3)\n",
        "      conc71 = BatchNormalization()(conc71)\n",
        "      conv72 = Conv2D(128, (3, 3), activation='relu', padding='same')(conc71)\n",
        "      conc72 = concatenate([up7, conv72], axis=3)\n",
        "      conc72 = BatchNormalization()(conc72)\n",
        "      conc72 = Dropout(rate= dropout)(conc72)\n",
        "\n",
        "      up8 = concatenate([Conv2DTranspose(64, (2, 2), strides=(2, 2), padding='same')(conc72), conv22], axis=3)\n",
        "      conv81 = Conv2D(64, (3, 3), activation='relu', padding='same')(up8)\n",
        "      conc81 = concatenate([up8, conv81], axis=3)\n",
        "      conc81 = BatchNormalization()(conc81)\n",
        "      conv82 = Conv2D(64, (3, 3), activation='relu', padding='same')(conc81)\n",
        "      conc82 = concatenate([up8, conv82], axis=3)\n",
        "      conc82 = BatchNormalization()(conc82)\n",
        "      conc82 = Dropout(rate= dropout)(conc82)\n",
        "\n",
        "      up9 = concatenate([Conv2DTranspose(32, (2, 2), strides=(2, 2), padding='same')(conc82), conv12], axis=3)\n",
        "      conv91 = Conv2D(32, (3, 3), activation='relu', padding='same')(up9)\n",
        "      conc91 = concatenate([up9, conv91], axis=3)\n",
        "      conc91 = BatchNormalization()(conc91)\n",
        "      conv92 = Conv2D(32, (3, 3), activation='relu', padding='same')(conc91)\n",
        "      conc92 = concatenate([up9, conv92], axis=3)\n",
        "      conc92 = BatchNormalization()(conc92)\n",
        "\n",
        "\n",
        "      conv10 = Conv2D(1, (1, 1), activation='sigmoid')(conc92)\n",
        "\n",
        "      model = tf.keras.Model(inputs=[inputs], outputs=[conv10])\n",
        "\n",
        "\n",
        "      model.compile(optimizer=Adam(learning_rate= 0.001), loss='binary_crossentropy', metrics=['accuracy', dice_metric, jaccard_coeff])\n",
        "\n",
        "      return model"
      ],
      "metadata": {
        "id": "r2H2oJ-T7UzD"
      },
      "execution_count": 6,
      "outputs": []
    },
    {
      "cell_type": "code",
      "source": [
        "model_path = '/content/gdrive/MyDrive/gp_models/1ch_firstModel_50epoch/model'\n",
        "model = tf.keras.models.load_model(model_path, custom_objects = {\"dice_metric\": dice_metric, \"jaccard_coeff\": jaccard_coeff})\n",
        "\n",
        "# Check its architecture\n",
        "# model.summary()"
      ],
      "metadata": {
        "id": "P-R3eVoKHXpp"
      },
      "execution_count": 7,
      "outputs": []
    },
    {
      "cell_type": "code",
      "source": [
        "predicted_masks = model.predict(x_test)"
      ],
      "metadata": {
        "colab": {
          "base_uri": "https://localhost:8080/"
        },
        "id": "FTIYp2w_7boq",
        "outputId": "a80c9e6f-b86d-44d6-e82f-7452e6ba08b0"
      },
      "execution_count": 8,
      "outputs": [
        {
          "output_type": "stream",
          "name": "stdout",
          "text": [
            "43/43 [==============================] - 27s 276ms/step\n"
          ]
        }
      ]
    },
    {
      "cell_type": "code",
      "source": [
        "twoD_masks = np.reshape(predicted_masks, (1375, 160, 192))\n",
        "twoD_y = np.reshape(y_test, (1375, 160, 192))"
      ],
      "metadata": {
        "id": "n2EP9DVHGQbO"
      },
      "execution_count": 9,
      "outputs": []
    },
    {
      "cell_type": "code",
      "source": [
        "twoD_masks.min()    # the current range is 0 -> 1"
      ],
      "metadata": {
        "id": "_6AfuXx9Z0RB",
        "colab": {
          "base_uri": "https://localhost:8080/"
        },
        "outputId": "544f7b0a-7f2e-4a0f-ce0c-87f9e04be9fe"
      },
      "execution_count": 10,
      "outputs": [
        {
          "output_type": "execute_result",
          "data": {
            "text/plain": [
              "1.6359323e-25"
            ]
          },
          "metadata": {},
          "execution_count": 10
        }
      ]
    },
    {
      "cell_type": "code",
      "source": [
        "# threshold the image to binary -> to detect region properties must be binary\n",
        "import cv2\n",
        "masks_binary = np.asarray([cv2.threshold(img, 0.08, 1, cv2.THRESH_BINARY)[1] for img in twoD_masks])  # cv2.threshold give tuple (threshold, output img)\n",
        "y_binary = np.asarray([cv2.threshold(img, 0.08, 1, cv2.THRESH_BINARY)[1] for img in twoD_y.astype(np.float32)])"
      ],
      "metadata": {
        "id": "issvEzLwd59D"
      },
      "execution_count": 11,
      "outputs": []
    },
    {
      "cell_type": "code",
      "source": [
        "# rescale to 0 -> 255\n",
        "masks_binary = (masks_binary*255).astype(np.uint8)\n",
        "y_binary = (y_binary*255).astype(np.uint8)"
      ],
      "metadata": {
        "id": "_qgAEhXngqBP"
      },
      "execution_count": 12,
      "outputs": []
    },
    {
      "cell_type": "code",
      "source": [
        "# show masks and image\n",
        "N = 819\n",
        "fig, arr = plt.subplots(1, 1, figsize=(3, 3))\n",
        "arr.imshow(post_img[N][:,:])\n",
        "# arr.set_title('Image')\n",
        "\n",
        "img = masks_binary[N]\n",
        "cv2_imshow(img)"
      ],
      "metadata": {
        "id": "u7Pvt2xwNgDb"
      },
      "execution_count": null,
      "outputs": []
    },
    {
      "cell_type": "markdown",
      "source": [
        " the image must have the circle all in white other parts in black"
      ],
      "metadata": {
        "id": "rOSKgWcqQYr4"
      }
    },
    {
      "cell_type": "markdown",
      "source": [
        "Calculate eccentricity (deviation from a perfect circle), euler number (number of holes in images)"
      ],
      "metadata": {
        "id": "mkGtW85KreqL"
      }
    },
    {
      "cell_type": "code",
      "source": [
        "from skimage import morphology\n",
        "post_img = [morphology.area_opening(img, 500, connectivity= 2) for img in masks_binary]    # 1 centimeter [cm] = 37.7952755905511 pixel (X). 5, 25, up to 100 differences in 30   400 -> 28"
      ],
      "metadata": {
        "id": "wAUaujHMiL2v"
      },
      "execution_count": 142,
      "outputs": []
    },
    {
      "cell_type": "code",
      "source": [
        "measure.regionprops(post_img[N])[0].area"
      ],
      "metadata": {
        "colab": {
          "base_uri": "https://localhost:8080/"
        },
        "id": "7qeAyYpubWQc",
        "outputId": "703bb95d-2882-415e-8621-4a0ec30fb7f5"
      },
      "execution_count": 143,
      "outputs": [
        {
          "output_type": "execute_result",
          "data": {
            "text/plain": [
              "1316"
            ]
          },
          "metadata": {},
          "execution_count": 143
        }
      ]
    },
    {
      "cell_type": "code",
      "source": [
        "def condition (reg):     # sort from biggest area to lowest\n",
        "  return -1 * reg.area"
      ],
      "metadata": {
        "id": "c18csEF6ZJis"
      },
      "execution_count": 144,
      "outputs": []
    },
    {
      "cell_type": "code",
      "source": [
        "# get euler number and eccentricity of predicted masks\n",
        "from skimage import measure\n",
        "\n",
        "labelled_img = [measure.label(img) for img in post_img]\n",
        "region_props = [measure.regionprops(np.squeeze(img)) for img in labelled_img]    # list of 1375: each ele is list of 1, website says use np.squeeze\n",
        "\n",
        "eccentricities = []\n",
        "euler_numbers = []\n",
        "\n",
        "for region in region_props:\n",
        "  region.sort(key= condition)\n",
        "  if(len(region) > 0):    # if all area is suppressed --> region is empty list\n",
        "    eccentricities.append(region[0].eccentricity)     # take region of largest area\n",
        "    euler_numbers.append(region[0].euler_number)\n",
        "    # if len(region) > 1:\n",
        "    #   print(region[0].area, region[1].area)\n",
        "# print(len(eccentricities))"
      ],
      "metadata": {
        "id": "TYYQFU5o72se"
      },
      "execution_count": 145,
      "outputs": []
    },
    {
      "cell_type": "code",
      "source": [
        "eccentricities = np.array(eccentricities)\n",
        "euler_numbers = np.array(euler_numbers)"
      ],
      "metadata": {
        "id": "lkCTH8noj_nF"
      },
      "execution_count": 146,
      "outputs": []
    },
    {
      "cell_type": "code",
      "source": [
        "# lens = np.array([len(img_regions) for img_regions in (region_props)])\n",
        "# print(np.unique(lens))\n",
        "\n",
        "# idx = []\n",
        "# for i in range(len(region_props)):\n",
        "#   if len(region_props[i]) != 1:\n",
        "#     idx.append(i)\n",
        "# print(len(idx))"
      ],
      "metadata": {
        "id": "39lz2SECUncw"
      },
      "execution_count": 147,
      "outputs": []
    },
    {
      "cell_type": "code",
      "source": [
        "# get euler number and eccentricity of y masks\n",
        "\n",
        "labelled_img_y = [measure.label(img) for img in y_binary]\n",
        "region_props_y = [measure.regionprops(np.squeeze(img)) for img in labelled_img_y]    # list of 1375: each ele is list of 1, website says use np.squeeze\n",
        "\n",
        "eccentricities_y = []\n",
        "euler_numbers_y = []\n",
        "\n",
        "for region in region_props_y:\n",
        "  region.sort(key= condition)\n",
        "  if(len(region) > 0):    # if all area is suppressed --> region is empty list\n",
        "    eccentricities_y.append(region[0].eccentricity)     # take region of largest area\n",
        "    euler_numbers_y.append(region[0].euler_number)\n",
        "\n",
        "eccentricities_y = np.array(eccentricities_y)\n",
        "euler_numbers_y = np.array(euler_numbers_y)"
      ],
      "metadata": {
        "id": "gECIsjbrn1Zo"
      },
      "execution_count": 148,
      "outputs": []
    },
    {
      "cell_type": "code",
      "source": [
        "print(eccentricities.min(), eccentricities.max())\n",
        "print(np.unique(euler_numbers))"
      ],
      "metadata": {
        "colab": {
          "base_uri": "https://localhost:8080/"
        },
        "id": "En90Zytu8YwM",
        "outputId": "90a3a416-9039-49e9-feff-01c00f39a903"
      },
      "execution_count": 149,
      "outputs": [
        {
          "output_type": "stream",
          "name": "stdout",
          "text": [
            "0.08460567288988648 0.8598867010195893\n",
            "[-1  0  1]\n"
          ]
        }
      ]
    },
    {
      "cell_type": "code",
      "source": [
        "print(eccentricities_y.min(), eccentricities_y.max())   # use 0.7159 as threshold for improper masks\n",
        "print(np.unique(euler_numbers_y))"
      ],
      "metadata": {
        "colab": {
          "base_uri": "https://localhost:8080/"
        },
        "id": "9oPJsX9GoHgQ",
        "outputId": "5ec027e7-823b-432b-8146-a34541691b96"
      },
      "execution_count": 150,
      "outputs": [
        {
          "output_type": "stream",
          "name": "stdout",
          "text": [
            "0.06542858100825143 0.7159156131071974\n",
            "[0 1]\n"
          ]
        }
      ]
    },
    {
      "cell_type": "code",
      "source": [
        "threshold = 0.7159\n",
        "improper_ecc = np.where(eccentricities > threshold)   # tuple of array\n",
        "improper_eu = np.where(euler_numbers != 0)\n",
        "improper_eu_y = np.where(euler_numbers_y != 0)\n",
        "improper_ecc_y = np.where(eccentricities_y > threshold)\n",
        "\n",
        "print(\"percentage of improper euler number metriced images of all images: \", improper_eu[0].shape[0]/ twoD_y.shape[0])\n",
        "print(\"number of improper euler: {}, number of improper eccentricities: {}\".format(improper_eu[0].shape[0], improper_ecc[0].shape[0]))\n",
        "print(\"number of improper euler in y_test: {}, number of improper eccentricities in y_test: {}\".format(improper_eu_y[0].shape[0], improper_ecc_y[0].shape[0]))"
      ],
      "metadata": {
        "colab": {
          "base_uri": "https://localhost:8080/"
        },
        "id": "bCyX_DNiQ1_6",
        "outputId": "22eb92e0-0bd0-4b9b-a62e-a26760c71e37"
      },
      "execution_count": 151,
      "outputs": [
        {
          "output_type": "stream",
          "name": "stdout",
          "text": [
            "percentage of improper euler number metriced images of all images:  0.01890909090909091\n",
            "number of improper euler: 26, number of improper eccentricities: 12\n",
            "number of improper euler in y_test: 1, number of improper eccentricities in y_test: 1\n"
          ]
        }
      ]
    },
    {
      "cell_type": "code",
      "source": [
        "# show improper masks\n",
        "N = 0\n",
        "fig, arr = plt.subplots(4, 8, figsize=(15, 15))\n",
        "for i in range(4):\n",
        "  for j in range(8):\n",
        "    arr[i][j].imshow(labelled_img[improper_eu[0][N]][:,:])\n",
        "    arr[i][j].set_title(improper_eu[0][N])\n",
        "    N += 1"
      ],
      "metadata": {
        "colab": {
          "base_uri": "https://localhost:8080/",
          "height": 1000
        },
        "id": "qBhBurfelwsm",
        "outputId": "fda328b2-b805-4681-e5b2-9595859064f7"
      },
      "execution_count": 152,
      "outputs": [
        {
          "output_type": "error",
          "ename": "IndexError",
          "evalue": "ignored",
          "traceback": [
            "\u001b[0;31m---------------------------------------------------------------------------\u001b[0m",
            "\u001b[0;31mIndexError\u001b[0m                                Traceback (most recent call last)",
            "\u001b[0;32m<ipython-input-152-644f6d61daf7>\u001b[0m in \u001b[0;36m<cell line: 4>\u001b[0;34m()\u001b[0m\n\u001b[1;32m      4\u001b[0m \u001b[0;32mfor\u001b[0m \u001b[0mi\u001b[0m \u001b[0;32min\u001b[0m \u001b[0mrange\u001b[0m\u001b[0;34m(\u001b[0m\u001b[0;36m4\u001b[0m\u001b[0;34m)\u001b[0m\u001b[0;34m:\u001b[0m\u001b[0;34m\u001b[0m\u001b[0;34m\u001b[0m\u001b[0m\n\u001b[1;32m      5\u001b[0m   \u001b[0;32mfor\u001b[0m \u001b[0mj\u001b[0m \u001b[0;32min\u001b[0m \u001b[0mrange\u001b[0m\u001b[0;34m(\u001b[0m\u001b[0;36m8\u001b[0m\u001b[0;34m)\u001b[0m\u001b[0;34m:\u001b[0m\u001b[0;34m\u001b[0m\u001b[0;34m\u001b[0m\u001b[0m\n\u001b[0;32m----> 6\u001b[0;31m     \u001b[0marr\u001b[0m\u001b[0;34m[\u001b[0m\u001b[0mi\u001b[0m\u001b[0;34m]\u001b[0m\u001b[0;34m[\u001b[0m\u001b[0mj\u001b[0m\u001b[0;34m]\u001b[0m\u001b[0;34m.\u001b[0m\u001b[0mimshow\u001b[0m\u001b[0;34m(\u001b[0m\u001b[0mlabelled_img\u001b[0m\u001b[0;34m[\u001b[0m\u001b[0mimproper_eu\u001b[0m\u001b[0;34m[\u001b[0m\u001b[0;36m0\u001b[0m\u001b[0;34m]\u001b[0m\u001b[0;34m[\u001b[0m\u001b[0mN\u001b[0m\u001b[0;34m]\u001b[0m\u001b[0;34m]\u001b[0m\u001b[0;34m[\u001b[0m\u001b[0;34m:\u001b[0m\u001b[0;34m,\u001b[0m\u001b[0;34m:\u001b[0m\u001b[0;34m]\u001b[0m\u001b[0;34m)\u001b[0m\u001b[0;34m\u001b[0m\u001b[0;34m\u001b[0m\u001b[0m\n\u001b[0m\u001b[1;32m      7\u001b[0m     \u001b[0marr\u001b[0m\u001b[0;34m[\u001b[0m\u001b[0mi\u001b[0m\u001b[0;34m]\u001b[0m\u001b[0;34m[\u001b[0m\u001b[0mj\u001b[0m\u001b[0;34m]\u001b[0m\u001b[0;34m.\u001b[0m\u001b[0mset_title\u001b[0m\u001b[0;34m(\u001b[0m\u001b[0mimproper_eu\u001b[0m\u001b[0;34m[\u001b[0m\u001b[0;36m0\u001b[0m\u001b[0;34m]\u001b[0m\u001b[0;34m[\u001b[0m\u001b[0mN\u001b[0m\u001b[0;34m]\u001b[0m\u001b[0;34m)\u001b[0m\u001b[0;34m\u001b[0m\u001b[0;34m\u001b[0m\u001b[0m\n\u001b[1;32m      8\u001b[0m     \u001b[0mN\u001b[0m \u001b[0;34m+=\u001b[0m \u001b[0;36m1\u001b[0m\u001b[0;34m\u001b[0m\u001b[0;34m\u001b[0m\u001b[0m\n",
            "\u001b[0;31mIndexError\u001b[0m: index 26 is out of bounds for axis 0 with size 26"
          ]
        },
        {
          "output_type": "display_data",
          "data": {
            "text/plain": [
              "<Figure size 1500x1500 with 32 Axes>"
            ],
            "image/png": "[encoded data removed]"
          },
          "metadata": {}
        }
      ]
    },
    {
      "cell_type": "code",
      "source": [
        "min_area = 3000\n",
        "idx = 0\n",
        "for n in range(len(region_props)):\n",
        "  if(len(region_props[n]) > 0):     # 413,  idx = 497\n",
        "    if min_area > region_props[n][0].area:\n",
        "      min_area = min(min_area, region_props[n][0].area)\n",
        "      idx = n\n",
        "print(min_area, idx)"
      ],
      "metadata": {
        "id": "h0zTzZiipkRg"
      },
      "execution_count": null,
      "outputs": []
    },
    {
      "cell_type": "code",
      "source": [],
      "metadata": {
        "id": "Vw24wdBrrpZU"
      },
      "execution_count": null,
      "outputs": []
    }
  ],
  "metadata": {
    "colab": {
      "provenance": []
    },
    "gpuClass": "standard",
    "kernelspec": {
      "display_name": "Python 3",
      "language": "python",
      "name": "python3"
    },
    "language_info": {
      "codemirror_mode": {
        "name": "ipython",
        "version": 3
      },
      "file_extension": ".py",
      "mimetype": "text/x-python",
      "name": "python",
      "nbconvert_exporter": "python",
      "pygments_lexer": "ipython3",
      "version": "3.7.12"
    },
    "accelerator": "GPU"
  },
  "nbformat": 4,
  "nbformat_minor": 0
}