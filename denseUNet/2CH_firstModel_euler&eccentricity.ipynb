{
  "cells": [
    {
      "cell_type": "code",
      "execution_count": 40,
      "metadata": {
        "id": "ir-JK7DjdZG4"
      },
      "outputs": [],
      "source": [
        "import tensorflow as tf\n",
        "import numpy as np\n",
        "import os\n",
        "import matplotlib.pyplot as plt\n",
        "from google.colab.patches import cv2_imshow\n",
        "import cv2 \n",
        "\n",
        "%matplotlib inline"
      ]
    },
    {
      "cell_type": "code",
      "execution_count": 2,
      "metadata": {
        "colab": {
          "base_uri": "https://localhost:8080/"
        },
        "id": "vHBhGoACdods",
        "outputId": "db174617-ad6d-4b29-87a1-76c8e786c603"
      },
      "outputs": [
        {
          "output_type": "stream",
          "name": "stdout",
          "text": [
            "Mounted at /content/gdrive\n"
          ]
        }
      ],
      "source": [
        "# Run this cell to connect to your Drive folder\n",
        "from google.colab import drive\n",
        "drive.mount('/content/gdrive')"
      ]
    },
    {
      "cell_type": "code",
      "source": [
        "# x_train = np.load('/content/gdrive/MyDrive/GP_dataset/x_train.npy')\n",
        "# y_train = np.load('/content/gdrive/MyDrive/GP_dataset/y_train.npy')\n",
        "\n",
        "# x_valid = np.load('/content/gdrive/MyDrive/GP_dataset/x_valid.npy')\n",
        "# y_valid = np.load('/content/gdrive/MyDrive/GP_dataset/y_valid.npy')\n",
        "x_test = np.load('/content/gdrive/MyDrive/GP_dataset/x_test_2ch.npy')\n",
        "y_test = np.load('/content/gdrive/MyDrive/GP_dataset/y_test.npy')"
      ],
      "metadata": {
        "id": "MG0EOnrAQ_JN"
      },
      "execution_count": 3,
      "outputs": []
    },
    {
      "cell_type": "code",
      "source": [
        "from tensorflow.keras.layers import Input, concatenate, Conv2D, MaxPooling2D, Conv2DTranspose, BatchNormalization, Dropout\n",
        "from keras.models import Model\n",
        "from tensorflow.keras.optimizers import Adam\n",
        "from tensorflow.keras.callbacks import ModelCheckpoint, CSVLogger\n",
        "from tensorflow.keras import backend as K\n",
        "# import keras_tuner as Kt\n",
        "\n",
        "K.set_image_data_format('channels_last')\n",
        "\n",
        "project_name = '2D-Dense-Unet'\n",
        "img_rows = 160\n",
        "img_cols = 192\n",
        "img_depth = 1\n",
        "# 224, 192, 160\n",
        " \n",
        "def dice_metric(y_true, y_pred):\n",
        "  intersection = K.sum(K.sum(K.abs(y_true * y_pred), axis= -1))\n",
        "  union = K.sum(K.sum(K.abs(y_true) + K.abs(y_pred), axis= -1))\n",
        "  return 2*intersection / union\n",
        "\n",
        "def jaccard_coeff(y_true, y_pred):\n",
        "  y_true_f = K.flatten(y_true)\n",
        "  y_pred_f = K.flatten(y_pred)\n",
        "  intersection = K.sum(y_true_f * y_pred_f)\n",
        "  return (intersection + 1.0) / (K.sum(y_true_f) + K.sum(y_pred_f) - intersection + 1.0)\n",
        "\n",
        "def build():\n",
        "      dropout = 0.5\n",
        "\n",
        "      inputs = Input((img_rows, img_cols, 1))\n",
        "      conv11 = Conv2D(32, (3, 3), activation='relu', padding='same')(inputs)\n",
        "      conc11 = concatenate([inputs, conv11], axis=3)\n",
        "      conc11 = BatchNormalization()(conc11)\n",
        "      conv12 = Conv2D(32, (3, 3), activation='relu', padding='same')(conc11)\n",
        "      conc12 = concatenate([inputs, conv12], axis=3)\n",
        "      conc12 = BatchNormalization()(conc12)\n",
        "      pool1 = MaxPooling2D(pool_size=(2, 2))(conc12)\n",
        "      pool1 = BatchNormalization()(pool1)\n",
        "      # add dropout\n",
        "      pool1 = Dropout(rate= dropout)(pool1)\n",
        "\n",
        "      conv21 = Conv2D(64, (3, 3), activation='relu', padding='same')(pool1)\n",
        "      conc21 = concatenate([pool1, conv21], axis=3)\n",
        "      conc21 = BatchNormalization()(conc21)\n",
        "      conv22 = Conv2D(64, (3, 3), activation='relu', padding='same')(conc21)\n",
        "      conc22 = concatenate([pool1, conv22], axis=3)\n",
        "      conc22 = BatchNormalization()(conc22)\n",
        "      pool2 = MaxPooling2D(pool_size=(2, 2))(conc22)\n",
        "      pool2 = BatchNormalization()(pool2)\n",
        "      pool2 = Dropout(rate= dropout)(pool2)\n",
        "\n",
        "      conv31 = Conv2D(128, (3, 3), activation='relu', padding='same')(pool2)\n",
        "      conc31 = concatenate([pool2, conv31], axis=3)\n",
        "      conc31 = BatchNormalization()(conc31)\n",
        "      conv32 = Conv2D(128, (3, 3), activation='relu', padding='same')(conc31)\n",
        "      conc32 = concatenate([pool2, conv32], axis=3)\n",
        "      pool3 = MaxPooling2D(pool_size=(2, 2))(conc32)\n",
        "      pool3 = BatchNormalization()(pool3)\n",
        "      pool3 = Dropout(rate= dropout)(pool3)\n",
        "\n",
        "      conv41 = Conv2D(256, (3, 3), activation='relu', padding='same')(pool3)\n",
        "      conc41 = concatenate([pool3, conv41], axis=3)\n",
        "      conc41 = BatchNormalization()(conc41)\n",
        "      conv42 = Conv2D(256, (3, 3), activation='relu', padding='same')(conc41)\n",
        "      conc42 = concatenate([pool3, conv42], axis=3)\n",
        "      pool4 = MaxPooling2D(pool_size=(2, 2))(conc42)\n",
        "      pool4 = BatchNormalization()(pool4)\n",
        "      pool4 = Dropout(rate= dropout)(pool4)\n",
        "\n",
        "      conv51 = Conv2D(512, (3, 3), activation='relu', padding='same')(pool4)\n",
        "      conc51 = concatenate([pool4, conv51], axis=3)\n",
        "      conc51 = BatchNormalization()(conc51)\n",
        "      conv52 = Conv2D(512, (3, 3), activation='relu', padding='same')(conc51)\n",
        "      conc52 = concatenate([pool4, conv52], axis=3)\n",
        "      conc52 = BatchNormalization()(conc52)\n",
        "      conc52 = Dropout(rate= dropout)(conc52)\n",
        "\n",
        "      up6 = concatenate([Conv2DTranspose(256, (2, 2), strides=(2, 2), padding='same')(conc52), conc42], axis=3)\n",
        "      conv61 = Conv2D(256, (3, 3), activation='relu', padding='same')(up6)\n",
        "      conc61 = concatenate([up6, conv61], axis=3)\n",
        "      conc61 = BatchNormalization()(conc61)\n",
        "      conv62 = Conv2D(256, (3, 3), activation='relu', padding='same')(conc61)\n",
        "      conc62 = concatenate([up6, conv62], axis=3)\n",
        "      conc62 = BatchNormalization()(conc62)\n",
        "      # add dropout\n",
        "      conc62 = Dropout(rate= dropout)(conc62)\n",
        "\n",
        "      up7 = concatenate([Conv2DTranspose(128, (2, 2), strides=(2, 2), padding='same')(conc62), conv32], axis=3)\n",
        "      conv71 = Conv2D(128, (3, 3), activation='relu', padding='same')(up7)\n",
        "      conc71 = concatenate([up7, conv71], axis=3)\n",
        "      conc71 = BatchNormalization()(conc71)\n",
        "      conv72 = Conv2D(128, (3, 3), activation='relu', padding='same')(conc71)\n",
        "      conc72 = concatenate([up7, conv72], axis=3)\n",
        "      conc72 = BatchNormalization()(conc72)\n",
        "      conc72 = Dropout(rate= dropout)(conc72)\n",
        "\n",
        "      up8 = concatenate([Conv2DTranspose(64, (2, 2), strides=(2, 2), padding='same')(conc72), conv22], axis=3)\n",
        "      conv81 = Conv2D(64, (3, 3), activation='relu', padding='same')(up8)\n",
        "      conc81 = concatenate([up8, conv81], axis=3)\n",
        "      conc81 = BatchNormalization()(conc81)\n",
        "      conv82 = Conv2D(64, (3, 3), activation='relu', padding='same')(conc81)\n",
        "      conc82 = concatenate([up8, conv82], axis=3)\n",
        "      conc82 = BatchNormalization()(conc82)\n",
        "      conc82 = Dropout(rate= dropout)(conc82)\n",
        "\n",
        "      up9 = concatenate([Conv2DTranspose(32, (2, 2), strides=(2, 2), padding='same')(conc82), conv12], axis=3)\n",
        "      conv91 = Conv2D(32, (3, 3), activation='relu', padding='same')(up9)\n",
        "      conc91 = concatenate([up9, conv91], axis=3)\n",
        "      conc91 = BatchNormalization()(conc91)\n",
        "      conv92 = Conv2D(32, (3, 3), activation='relu', padding='same')(conc91)\n",
        "      conc92 = concatenate([up9, conv92], axis=3)\n",
        "      conc92 = BatchNormalization()(conc92)\n",
        "\n",
        "\n",
        "      conv10 = Conv2D(1, (1, 1), activation='sigmoid')(conc92)\n",
        "\n",
        "      model = tf.keras.Model(inputs=[inputs], outputs=[conv10])   \n",
        "\n",
        "    \n",
        "      model.compile(optimizer=Adam(learning_rate= 0.001), loss='binary_crossentropy', metrics=['accuracy', dice_metric, jaccard_coeff])\n",
        "      \n",
        "      return model"
      ],
      "metadata": {
        "id": "r2H2oJ-T7UzD"
      },
      "execution_count": 4,
      "outputs": []
    },
    {
      "cell_type": "code",
      "source": [
        "model_path = '/content/gdrive/MyDrive/GP_dataset/gp_models/2ch_125pat_50epoch/model'\n",
        "model = tf.keras.models.load_model(model_path, custom_objects = {\"dice_metric\": dice_metric, \"jaccard_coeff\": jaccard_coeff})\n",
        "\n",
        "# Check its architecture\n",
        "# model.summary()"
      ],
      "metadata": {
        "id": "P-R3eVoKHXpp"
      },
      "execution_count": 5,
      "outputs": []
    },
    {
      "cell_type": "code",
      "source": [
        "predicted_masks = model.predict(x_test)"
      ],
      "metadata": {
        "colab": {
          "base_uri": "https://localhost:8080/"
        },
        "id": "FTIYp2w_7boq",
        "outputId": "d9fe00a6-1ecd-4621-f6d7-eb2854662424"
      },
      "execution_count": 6,
      "outputs": [
        {
          "output_type": "stream",
          "name": "stdout",
          "text": [
            "43/43 [==============================] - 26s 279ms/step\n"
          ]
        }
      ]
    },
    {
      "cell_type": "code",
      "source": [
        "twoD_masks = np.reshape(predicted_masks, (1375, 160, 192))\n",
        "twoD_y = np.reshape(y_test, (1375, 160, 192))"
      ],
      "metadata": {
        "id": "n2EP9DVHGQbO"
      },
      "execution_count": 7,
      "outputs": []
    },
    {
      "cell_type": "code",
      "source": [
        "twoD_masks.min()    # the current range is 0 -> 1"
      ],
      "metadata": {
        "id": "_6AfuXx9Z0RB"
      },
      "execution_count": null,
      "outputs": []
    },
    {
      "cell_type": "code",
      "source": [
        "# threshold the image to binary -> to detect region properties must be binary\n",
        "import cv2\n",
        "masks_binary = np.asarray([cv2.threshold(img, 0.08, 1, cv2.THRESH_BINARY)[1] for img in twoD_masks])  # cv2.threshold give tuple (threshold, output img)\n",
        "y_binary = np.asarray([cv2.threshold(img, 0.08, 1, cv2.THRESH_BINARY)[1] for img in twoD_y.astype(np.float32)])"
      ],
      "metadata": {
        "id": "issvEzLwd59D"
      },
      "execution_count": 124,
      "outputs": []
    },
    {
      "cell_type": "code",
      "source": [
        "# rescale to 0 -> 255\n",
        "masks_binary = (masks_binary*255).astype(np.uint8)\n",
        "y_binary = (y_binary*255).astype(np.uint8)"
      ],
      "metadata": {
        "id": "_qgAEhXngqBP"
      },
      "execution_count": 125,
      "outputs": []
    },
    {
      "cell_type": "code",
      "source": [
        "# show masks and image\n",
        "N = 191\n",
        "\n",
        "fig, arr = plt.subplots(1, 1, figsize=(3, 3))\n",
        "arr.imshow(twoD_y[N][:,:])\n",
        "arr.set_title('Image')\n",
        "\n",
        "img = y_binary[N]\n",
        "cv2_imshow(img)"
      ],
      "metadata": {
        "colab": {
          "base_uri": "https://localhost:8080/",
          "height": 436
        },
        "id": "u7Pvt2xwNgDb",
        "outputId": "903167b7-f582-4bd7-ddee-295701626b81"
      },
      "execution_count": 126,
      "outputs": [
        {
          "output_type": "display_data",
          "data": {
            "text/plain": [
              "<PIL.Image.Image image mode=L size=192x160 at 0x7F6D43D574F0>"
            ],
            "image/png": "[encoded data removed]"
          },
          "metadata": {}
        },
        {
          "output_type": "display_data",
          "data": {
            "text/plain": [
              "<Figure size 300x300 with 1 Axes>"
            ],
            "image/png": "[encoded data removed]"
          },
          "metadata": {}
        }
      ]
    },
    {
      "cell_type": "markdown",
      "source": [
        " the image must have the circle all in white other parts in black"
      ],
      "metadata": {
        "id": "rOSKgWcqQYr4"
      }
    },
    {
      "cell_type": "code",
      "source": [
        "def to_1d_list(list_2d):\n",
        "    return list(np.concatenate(list_2d).flat)"
      ],
      "metadata": {
        "id": "jm4-AnD01Vkq"
      },
      "execution_count": 127,
      "outputs": []
    },
    {
      "cell_type": "markdown",
      "source": [
        "Calculate eccentricity (deviation from a perfect circle), euler number (number of holes in images)"
      ],
      "metadata": {
        "id": "mkGtW85KreqL"
      }
    },
    {
      "cell_type": "code",
      "source": [
        "# get euler number and eccentricity of predicted masks\n",
        "from skimage import measure\n",
        "\n",
        "region_props = [measure.regionprops(img) for img in masks_binary]    # list of 1375: each ele is list of 1 \n",
        "region_props = to_1d_list(region_props)     # list of 1375 region objects\n",
        "eccentricities = np.array([region.eccentricity for region in region_props])\n",
        "euler_numbers = np.array([region.euler_number for region in region_props])"
      ],
      "metadata": {
        "id": "TYYQFU5o72se"
      },
      "execution_count": 128,
      "outputs": []
    },
    {
      "cell_type": "code",
      "source": [
        "# get euler number and eccentricity of y masks\n",
        "from skimage import measure\n",
        "\n",
        "region_props_y = [measure.regionprops(img) for img in y_binary]    # list of 1375: each ele is list of 1 \n",
        "region_props_y = to_1d_list(region_props_y)     # list of 1375 region objects\n",
        "eccentricities_y = np.array([region.eccentricity for region in region_props_y])\n",
        "euler_numbers_y = np.array([region.euler_number for region in region_props_y])"
      ],
      "metadata": {
        "id": "gECIsjbrn1Zo"
      },
      "execution_count": 129,
      "outputs": []
    },
    {
      "cell_type": "code",
      "source": [
        "print(eccentricities.min(), eccentricities.max())\n",
        "print(np.unique(euler_numbers))"
      ],
      "metadata": {
        "colab": {
          "base_uri": "https://localhost:8080/"
        },
        "id": "En90Zytu8YwM",
        "outputId": "c5c0cf0c-a4ff-4d42-84f3-9398802c537c"
      },
      "execution_count": 130,
      "outputs": [
        {
          "output_type": "stream",
          "name": "stdout",
          "text": [
            "0.028675525463556065 0.9588034130726538\n",
            "[0 1 2 5]\n"
          ]
        }
      ]
    },
    {
      "cell_type": "code",
      "source": [
        "print(eccentricities_y.min(), eccentricities_y.max())   # use 0.7159 as threshold for improper masks\n",
        "print(np.unique(euler_numbers_y))"
      ],
      "metadata": {
        "colab": {
          "base_uri": "https://localhost:8080/"
        },
        "id": "9oPJsX9GoHgQ",
        "outputId": "cb852ecf-6c1e-49ee-da00-77575809c338"
      },
      "execution_count": 131,
      "outputs": [
        {
          "output_type": "stream",
          "name": "stdout",
          "text": [
            "0.06542858100825143 0.7159156131071974\n",
            "[0 1]\n"
          ]
        }
      ]
    },
    {
      "cell_type": "code",
      "source": [
        "threshold = 0.7159\n",
        "improper_ecc = np.where(eccentricities > threshold)   # tuple of array\n",
        "improper_eu = np.where(euler_numbers != 0)\n",
        "improper_eu_y = np.where(euler_numbers_y != 0)\n",
        "\n",
        "print(\"percentage of improper euler number metriced images: \", improper_eu[0].shape[0]/ twoD_y.shape[0])\n",
        "print(\"number of improper euler: {}, number of improper eccentricities: {}\".format(improper_eu[0].shape[0], improper_ecc[0].shape[0]))\n",
        "print(\"number of improper euler in y_test: {}\".format(improper_eu_y[0].shape[0]))"
      ],
      "metadata": {
        "colab": {
          "base_uri": "https://localhost:8080/"
        },
        "id": "bCyX_DNiQ1_6",
        "outputId": "6704ddca-77d7-4866-fcd2-58e66dd14dbe"
      },
      "execution_count": 134,
      "outputs": [
        {
          "output_type": "stream",
          "name": "stdout",
          "text": [
            "percentage of improper euler number metriced images:  0.03490909090909091\n",
            "number of improper euler: 48, number of improper eccentricities: 14\n",
            "number of improper euler in y_test: 1\n"
          ]
        }
      ]
    },
    {
      "cell_type": "code",
      "source": [],
      "metadata": {
        "id": "lzyZQprvsU0B"
      },
      "execution_count": null,
      "outputs": []
    }
  ],
  "metadata": {
    "colab": {
      "provenance": []
    },
    "gpuClass": "standard",
    "kernelspec": {
      "display_name": "Python 3",
      "language": "python",
      "name": "python3"
    },
    "language_info": {
      "codemirror_mode": {
        "name": "ipython",
        "version": 3
      },
      "file_extension": ".py",
      "mimetype": "text/x-python",
      "name": "python",
      "nbconvert_exporter": "python",
      "pygments_lexer": "ipython3",
      "version": "3.7.12"
    },
    "accelerator": "GPU"
  },
  "nbformat": 4,
  "nbformat_minor": 0
}